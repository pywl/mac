{
 "cells": [
  {
   "cell_type": "code",
   "execution_count": 2,
   "metadata": {},
   "outputs": [
    {
     "data": {
      "text/plain": [
       "1.2"
      ]
     },
     "execution_count": 2,
     "metadata": {},
     "output_type": "execute_result"
    }
   ],
   "source": [
    "round(1.23,1)"
   ]
  },
  {
   "cell_type": "code",
   "execution_count": 5,
   "metadata": {},
   "outputs": [
    {
     "data": {
      "text/plain": [
       "-1.6"
      ]
     },
     "execution_count": 5,
     "metadata": {},
     "output_type": "execute_result"
    }
   ],
   "source": [
    "round(-1.58,1)"
   ]
  },
  {
   "cell_type": "code",
   "execution_count": 6,
   "metadata": {},
   "outputs": [
    {
     "data": {
      "text/plain": [
       "1234500"
      ]
     },
     "execution_count": 6,
     "metadata": {},
     "output_type": "execute_result"
    }
   ],
   "source": [
    "round(1234521,-2)"
   ]
  },
  {
   "cell_type": "code",
   "execution_count": 7,
   "metadata": {},
   "outputs": [
    {
     "data": {
      "text/plain": [
       "'1.23'"
      ]
     },
     "execution_count": 7,
     "metadata": {},
     "output_type": "execute_result"
    }
   ],
   "source": [
    "x = 1.231\n",
    "format(x,'0.2f')"
   ]
  },
  {
   "cell_type": "code",
   "execution_count": 8,
   "metadata": {},
   "outputs": [
    {
     "data": {
      "text/plain": [
       "6.300000000000001"
      ]
     },
     "execution_count": 8,
     "metadata": {},
     "output_type": "execute_result"
    }
   ],
   "source": [
    "a =4.2\n",
    "b =2.1\n",
    "a+b"
   ]
  },
  {
   "cell_type": "markdown",
   "metadata": {},
   "source": [
    "这些错误是由底层CPU和IEEE 754标准通过自己的浮点单位去执行算术时的特征。 由于Python的浮点数据类型使用底层表示存储数据，因此你没办法去避免这样的误差。\n",
    "如果你想更加精确(并能容忍一定的性能损耗)，你可以使用 decimal 模块：\n",
    "\n",
    "\n",
    "\n"
   ]
  },
  {
   "cell_type": "code",
   "execution_count": 9,
   "metadata": {},
   "outputs": [
    {
     "data": {
      "text/plain": [
       "Decimal('6.3')"
      ]
     },
     "execution_count": 9,
     "metadata": {},
     "output_type": "execute_result"
    }
   ],
   "source": [
    "from decimal import Decimal\n",
    "a = Decimal('4.2')\n",
    "b =Decimal('2.1')\n",
    "a +b"
   ]
  },
  {
   "cell_type": "code",
   "execution_count": 10,
   "metadata": {},
   "outputs": [
    {
     "data": {
      "text/plain": [
       "1j"
      ]
     },
     "execution_count": 10,
     "metadata": {},
     "output_type": "execute_result"
    }
   ],
   "source": [
    "#如果你想生成一个复数返回结果，你必须显示的使用 cmath 模块，或者在某个支持复数的库中声明复数类型的使用\n",
    "import cmath\n",
    "cmath.sqrt(-1)"
   ]
  },
  {
   "cell_type": "code",
   "execution_count": 13,
   "metadata": {},
   "outputs": [
    {
     "name": "stdout",
     "output_type": "stream",
     "text": [
      "27/16\n"
     ]
    }
   ],
   "source": [
    "#fractions 模块可以被用来执行包含分数的数学运算\n",
    "from fractions import Fraction\n",
    "a = Fraction(5,4)\n",
    "b = Fraction(7,16)\n",
    "print(a+b)"
   ]
  },
  {
   "cell_type": "code",
   "execution_count": 14,
   "metadata": {},
   "outputs": [
    {
     "data": {
      "text/plain": [
       "35"
      ]
     },
     "execution_count": 14,
     "metadata": {},
     "output_type": "execute_result"
    }
   ],
   "source": [
    "c = a*b\n",
    "c.numerator"
   ]
  },
  {
   "cell_type": "code",
   "execution_count": 15,
   "metadata": {},
   "outputs": [
    {
     "data": {
      "text/plain": [
       "64"
      ]
     },
     "execution_count": 15,
     "metadata": {},
     "output_type": "execute_result"
    }
   ],
   "source": [
    "c.denominator"
   ]
  },
  {
   "cell_type": "code",
   "execution_count": 16,
   "metadata": {},
   "outputs": [
    {
     "data": {
      "text/plain": [
       "4"
      ]
     },
     "execution_count": 16,
     "metadata": {},
     "output_type": "execute_result"
    }
   ],
   "source": [
    "import random \n",
    "values = [1,2,3,4,5,6]\n",
    "random.choice(values)"
   ]
  },
  {
   "cell_type": "code",
   "execution_count": 19,
   "metadata": {},
   "outputs": [
    {
     "data": {
      "text/plain": [
       "[3, 2]"
      ]
     },
     "execution_count": 19,
     "metadata": {},
     "output_type": "execute_result"
    }
   ],
   "source": [
    "random.sample(values,2)"
   ]
  },
  {
   "cell_type": "code",
   "execution_count": 21,
   "metadata": {},
   "outputs": [
    {
     "data": {
      "text/plain": [
       "4"
      ]
     },
     "execution_count": 21,
     "metadata": {},
     "output_type": "execute_result"
    }
   ],
   "source": [
    "#随机生成整数\n",
    "random.randint(0,10)"
   ]
  },
  {
   "cell_type": "code",
   "execution_count": 22,
   "metadata": {},
   "outputs": [
    {
     "data": {
      "text/plain": [
       "0.44726440723182126"
      ]
     },
     "execution_count": 22,
     "metadata": {},
     "output_type": "execute_result"
    }
   ],
   "source": [
    "#为了生成0到1范围内均匀分布的浮点数，使用 random.random() ：\n",
    "\n",
    "random.random()"
   ]
  },
  {
   "cell_type": "code",
   "execution_count": 23,
   "metadata": {},
   "outputs": [],
   "source": [
    "#通过 random.seed() 函数修改初始化种子\n",
    "random.seed()"
   ]
  },
  {
   "cell_type": "code",
   "execution_count": 24,
   "metadata": {},
   "outputs": [],
   "source": [
    "random.seed(123)"
   ]
  },
  {
   "cell_type": "markdown",
   "metadata": {},
   "source": [
    "为了执行不同时间单位的转换和计算，请使用 datetime 模块。 比如，为了表示一个时间段，可以创建一个 timedelta 实例，就像下面这样："
   ]
  },
  {
   "cell_type": "code",
   "execution_count": 25,
   "metadata": {},
   "outputs": [
    {
     "data": {
      "text/plain": [
       "1"
      ]
     },
     "execution_count": 25,
     "metadata": {},
     "output_type": "execute_result"
    }
   ],
   "source": [
    "from datetime import timedelta\n",
    "a = timedelta(days =1,hours=6)\n",
    "b= timedelta(hours=4.5)\n",
    "c =a +b\n",
    "c.days"
   ]
  },
  {
   "cell_type": "code",
   "execution_count": 26,
   "metadata": {},
   "outputs": [
    {
     "data": {
      "text/plain": [
       "37800"
      ]
     },
     "execution_count": 26,
     "metadata": {},
     "output_type": "execute_result"
    }
   ],
   "source": [
    "c.seconds"
   ]
  },
  {
   "cell_type": "code",
   "execution_count": 29,
   "metadata": {},
   "outputs": [
    {
     "name": "stdout",
     "output_type": "stream",
     "text": [
      "2012-10-03 00:00:00\n"
     ]
    }
   ],
   "source": [
    "from datetime import datetime\n",
    "a = datetime(2012,9,23)\n",
    "print(a+ timedelta(days=10))"
   ]
  },
  {
   "cell_type": "code",
   "execution_count": 30,
   "metadata": {},
   "outputs": [
    {
     "data": {
      "text/plain": [
       "89"
      ]
     },
     "execution_count": 30,
     "metadata": {},
     "output_type": "execute_result"
    }
   ],
   "source": [
    "b = datetime(2012, 12, 21)\n",
    "d = b-a\n",
    "d.days"
   ]
  },
  {
   "cell_type": "code",
   "execution_count": 32,
   "metadata": {},
   "outputs": [
    {
     "data": {
      "text/plain": [
       "datetime.datetime(2019, 2, 21, 17, 20, 0, 965851)"
      ]
     },
     "execution_count": 32,
     "metadata": {},
     "output_type": "execute_result"
    }
   ],
   "source": [
    "nows = datetime.today()\n",
    "nows"
   ]
  },
  {
   "cell_type": "code",
   "execution_count": 33,
   "metadata": {},
   "outputs": [],
   "source": [
    "'''\n",
    "你需要查找星期中某一天最后出现的日期，比如星期五。\n",
    "\n",
    "解决方案\n",
    "Python的 datetime 模块中有工具函数和类可以帮助你执行这样的计算。 \n",
    "下面是对类似这样的问题的一个通用解决方案：\n",
    "\n",
    "\n",
    "\n",
    "'''\n",
    "from datetime import datetime, timedelta\n",
    "\n",
    "weekdays = ['Monday', 'Tuesday', 'Wednesday', 'Thursday',\n",
    "            'Friday', 'Saturday', 'Sunday']\n",
    "\n",
    "\n",
    "def get_previous_byday(dayname, start_date=None):\n",
    "    if start_date is None:\n",
    "        start_date = datetime.today()\n",
    "    day_num = start_date.weekday()\n",
    "    day_num_target = weekdays.index(dayname)\n",
    "    days_ago = (7 + day_num - day_num_target) % 7\n",
    "    if days_ago == 0:\n",
    "        days_ago = 7\n",
    "    target_date = start_date - timedelta(days=days_ago)\n",
    "    return target_date"
   ]
  },
  {
   "cell_type": "code",
   "execution_count": 34,
   "metadata": {},
   "outputs": [
    {
     "data": {
      "text/plain": [
       "datetime.datetime(2019, 2, 21, 17, 21, 28, 350570)"
      ]
     },
     "execution_count": 34,
     "metadata": {},
     "output_type": "execute_result"
    }
   ],
   "source": [
    "datetime.today()"
   ]
  },
  {
   "cell_type": "code",
   "execution_count": 35,
   "metadata": {},
   "outputs": [
    {
     "data": {
      "text/plain": [
       "datetime.datetime(2019, 2, 18, 17, 21, 42, 291602)"
      ]
     },
     "execution_count": 35,
     "metadata": {},
     "output_type": "execute_result"
    }
   ],
   "source": [
    "get_previous_byday('Monday')"
   ]
  },
  {
   "cell_type": "code",
   "execution_count": 36,
   "metadata": {},
   "outputs": [
    {
     "data": {
      "text/plain": [
       "datetime.datetime(2019, 2, 19, 17, 22, 4, 114864)"
      ]
     },
     "execution_count": 36,
     "metadata": {},
     "output_type": "execute_result"
    }
   ],
   "source": [
    "get_previous_byday('Tuesday')"
   ]
  },
  {
   "cell_type": "code",
   "execution_count": 37,
   "metadata": {},
   "outputs": [
    {
     "data": {
      "text/plain": [
       "datetime.datetime(2012, 12, 16, 0, 0)"
      ]
     },
     "execution_count": 37,
     "metadata": {},
     "output_type": "execute_result"
    }
   ],
   "source": [
    "get_previous_byday('Sunday', datetime(2012, 12, 21))"
   ]
  },
  {
   "cell_type": "markdown",
   "metadata": {},
   "source": [
    "上面的算法原理是这样的：先将开始日期和目标日期映射到星期数组的位置上(星期一索引为0)， 然后通过模运算计算出目标日期要经过多少天才能到达开始日期。然后用开始日期减去那个时间差即得到结果日期。\n",
    "\n",
    "如果你要像这样执行大量的日期计算的话，你最好安装第三方包 python-dateutil 来代替。 比如，下面是是使用 dateutil 模块中的 relativedelta() 函数执行同样的计算："
   ]
  },
  {
   "cell_type": "code",
   "execution_count": 40,
   "metadata": {},
   "outputs": [
    {
     "name": "stdout",
     "output_type": "stream",
     "text": [
      "2019-02-22 17:24:13.243139\n"
     ]
    }
   ],
   "source": [
    "from datetime import datetime\n",
    "from dateutil.relativedelta import relativedelta\n",
    "from dateutil.rrule import * \n",
    "d = datetime.now()\n",
    "print(d + relativedelta(weekday=FR))"
   ]
  },
  {
   "cell_type": "markdown",
   "metadata": {},
   "source": [
    "你的代码需要在当前月份中循环每一天，想找到一个计算这个日期范围的高效方法。\n",
    "\n",
    "解决方案\n",
    "在这样的日期上循环并需要事先构造一个包含所有日期的列表。 你可以先计算出开始日期和结束日期， 然后在你步进的时候使用 datetime.timedelta 对象递增这个日期变量即可。\n",
    "\n",
    "下面是一个接受任意 datetime 对象并返回一个由当前月份开始日和下个月开始日组成的元组对象。"
   ]
  },
  {
   "cell_type": "code",
   "execution_count": 41,
   "metadata": {},
   "outputs": [],
   "source": [
    "from datetime import datetime, date, timedelta\n",
    "import calendar\n",
    "\n",
    "def get_month_range(start_date=None):\n",
    "    if start_date is None:\n",
    "        start_date = date.today().replace(day=1)\n",
    "    _, days_in_month = calendar.monthrange(start_date.year, start_date.month)\n",
    "    end_date = start_date + timedelta(days=days_in_month)\n",
    "    return (start_date, end_date)"
   ]
  },
  {
   "cell_type": "code",
   "execution_count": 42,
   "metadata": {},
   "outputs": [
    {
     "name": "stdout",
     "output_type": "stream",
     "text": [
      "2019-02-01\n",
      "2019-02-02\n",
      "2019-02-03\n",
      "2019-02-04\n",
      "2019-02-05\n",
      "2019-02-06\n",
      "2019-02-07\n",
      "2019-02-08\n",
      "2019-02-09\n",
      "2019-02-10\n",
      "2019-02-11\n",
      "2019-02-12\n",
      "2019-02-13\n",
      "2019-02-14\n",
      "2019-02-15\n",
      "2019-02-16\n",
      "2019-02-17\n",
      "2019-02-18\n",
      "2019-02-19\n",
      "2019-02-20\n",
      "2019-02-21\n",
      "2019-02-22\n",
      "2019-02-23\n",
      "2019-02-24\n",
      "2019-02-25\n",
      "2019-02-26\n",
      "2019-02-27\n",
      "2019-02-28\n"
     ]
    }
   ],
   "source": [
    "a_day = timedelta(days=1)\n",
    "first_day, last_day = get_month_range()\n",
    "while first_day < last_day:\n",
    "    print(first_day)\n",
    "    first_day += a_day"
   ]
  },
  {
   "cell_type": "markdown",
   "metadata": {},
   "source": [
    "上面的代码先计算出一个对应月份第一天的日期。 一个快速的方法就是使用 date 或 datetime 对象的 replace() 方法简单的将 days 属性设置成1即可。 replace() 方法一个好处就是它会创建和你开始传入对象类型相同的对象。 所以，如果输入参数是一个 date 实例，那么结果也是一个 date 实例。 同样的，如果输入是一个 datetime 实例，那么你得到的就是一个 datetime 实例。\n",
    "\n",
    "然后，使用 calendar.monthrange() 函数来找出该月的总天数。 任何时候只要你想获得日历信息，那么 calendar 模块就非常有用了。 monthrange() 函数会返回包含星期和该月天数的元组。\n",
    "\n",
    "一旦该月的天数已知了，那么结束日期就可以通过在开始日期上面加上这个天数获得。 有个需要注意的是结束日期并不包含在这个日期范围内(事实上它是下个月的开始日期)。 这个和Python的 slice 与 range 操作行为保持一致，同样也不包含结尾。\n",
    "\n",
    "为了在日期范围上循环，要使用到标准的数学和比较操作。 比如，可以利用 timedelta 实例来递增日期，小于号<用来检查一个日期是否在结束日期之前。\n",
    "\n",
    "理想情况下，如果能为日期迭代创建一个同内置的 range() 函数一样的函数就好了。 幸运的是，可以使用一个生成器来很容易的实现这个目标：\n",
    "\n"
   ]
  },
  {
   "cell_type": "code",
   "execution_count": 43,
   "metadata": {},
   "outputs": [],
   "source": [
    "def date_range(start, stop, step):\n",
    "    while start < stop:\n",
    "        yield start\n",
    "        start += step"
   ]
  },
  {
   "cell_type": "code",
   "execution_count": 44,
   "metadata": {},
   "outputs": [
    {
     "name": "stdout",
     "output_type": "stream",
     "text": [
      "2012-09-01 00:00:00\n",
      "2012-09-01 06:00:00\n",
      "2012-09-01 12:00:00\n",
      "2012-09-01 18:00:00\n",
      "2012-09-02 00:00:00\n",
      "2012-09-02 06:00:00\n",
      "2012-09-02 12:00:00\n",
      "2012-09-02 18:00:00\n",
      "2012-09-03 00:00:00\n",
      "2012-09-03 06:00:00\n",
      "2012-09-03 12:00:00\n",
      "2012-09-03 18:00:00\n",
      "2012-09-04 00:00:00\n",
      "2012-09-04 06:00:00\n",
      "2012-09-04 12:00:00\n",
      "2012-09-04 18:00:00\n",
      "2012-09-05 00:00:00\n",
      "2012-09-05 06:00:00\n",
      "2012-09-05 12:00:00\n",
      "2012-09-05 18:00:00\n",
      "2012-09-06 00:00:00\n",
      "2012-09-06 06:00:00\n",
      "2012-09-06 12:00:00\n",
      "2012-09-06 18:00:00\n",
      "2012-09-07 00:00:00\n",
      "2012-09-07 06:00:00\n",
      "2012-09-07 12:00:00\n",
      "2012-09-07 18:00:00\n",
      "2012-09-08 00:00:00\n",
      "2012-09-08 06:00:00\n",
      "2012-09-08 12:00:00\n",
      "2012-09-08 18:00:00\n",
      "2012-09-09 00:00:00\n",
      "2012-09-09 06:00:00\n",
      "2012-09-09 12:00:00\n",
      "2012-09-09 18:00:00\n",
      "2012-09-10 00:00:00\n",
      "2012-09-10 06:00:00\n",
      "2012-09-10 12:00:00\n",
      "2012-09-10 18:00:00\n",
      "2012-09-11 00:00:00\n",
      "2012-09-11 06:00:00\n",
      "2012-09-11 12:00:00\n",
      "2012-09-11 18:00:00\n",
      "2012-09-12 00:00:00\n",
      "2012-09-12 06:00:00\n",
      "2012-09-12 12:00:00\n",
      "2012-09-12 18:00:00\n",
      "2012-09-13 00:00:00\n",
      "2012-09-13 06:00:00\n",
      "2012-09-13 12:00:00\n",
      "2012-09-13 18:00:00\n",
      "2012-09-14 00:00:00\n",
      "2012-09-14 06:00:00\n",
      "2012-09-14 12:00:00\n",
      "2012-09-14 18:00:00\n",
      "2012-09-15 00:00:00\n",
      "2012-09-15 06:00:00\n",
      "2012-09-15 12:00:00\n",
      "2012-09-15 18:00:00\n",
      "2012-09-16 00:00:00\n",
      "2012-09-16 06:00:00\n",
      "2012-09-16 12:00:00\n",
      "2012-09-16 18:00:00\n",
      "2012-09-17 00:00:00\n",
      "2012-09-17 06:00:00\n",
      "2012-09-17 12:00:00\n",
      "2012-09-17 18:00:00\n",
      "2012-09-18 00:00:00\n",
      "2012-09-18 06:00:00\n",
      "2012-09-18 12:00:00\n",
      "2012-09-18 18:00:00\n",
      "2012-09-19 00:00:00\n",
      "2012-09-19 06:00:00\n",
      "2012-09-19 12:00:00\n",
      "2012-09-19 18:00:00\n",
      "2012-09-20 00:00:00\n",
      "2012-09-20 06:00:00\n",
      "2012-09-20 12:00:00\n",
      "2012-09-20 18:00:00\n",
      "2012-09-21 00:00:00\n",
      "2012-09-21 06:00:00\n",
      "2012-09-21 12:00:00\n",
      "2012-09-21 18:00:00\n",
      "2012-09-22 00:00:00\n",
      "2012-09-22 06:00:00\n",
      "2012-09-22 12:00:00\n",
      "2012-09-22 18:00:00\n",
      "2012-09-23 00:00:00\n",
      "2012-09-23 06:00:00\n",
      "2012-09-23 12:00:00\n",
      "2012-09-23 18:00:00\n",
      "2012-09-24 00:00:00\n",
      "2012-09-24 06:00:00\n",
      "2012-09-24 12:00:00\n",
      "2012-09-24 18:00:00\n",
      "2012-09-25 00:00:00\n",
      "2012-09-25 06:00:00\n",
      "2012-09-25 12:00:00\n",
      "2012-09-25 18:00:00\n",
      "2012-09-26 00:00:00\n",
      "2012-09-26 06:00:00\n",
      "2012-09-26 12:00:00\n",
      "2012-09-26 18:00:00\n",
      "2012-09-27 00:00:00\n",
      "2012-09-27 06:00:00\n",
      "2012-09-27 12:00:00\n",
      "2012-09-27 18:00:00\n",
      "2012-09-28 00:00:00\n",
      "2012-09-28 06:00:00\n",
      "2012-09-28 12:00:00\n",
      "2012-09-28 18:00:00\n",
      "2012-09-29 00:00:00\n",
      "2012-09-29 06:00:00\n",
      "2012-09-29 12:00:00\n",
      "2012-09-29 18:00:00\n",
      "2012-09-30 00:00:00\n",
      "2012-09-30 06:00:00\n",
      "2012-09-30 12:00:00\n",
      "2012-09-30 18:00:00\n"
     ]
    }
   ],
   "source": [
    "for d in date_range(datetime(2012, 9, 1), datetime(2012,10,1),\n",
    "                        timedelta(hours=6)):\n",
    "     print(d)"
   ]
  },
  {
   "cell_type": "code",
   "execution_count": null,
   "metadata": {},
   "outputs": [],
   "source": []
  }
 ],
 "metadata": {
  "kernelspec": {
   "display_name": "Python 3",
   "language": "python",
   "name": "python3"
  },
  "language_info": {
   "codemirror_mode": {
    "name": "ipython",
    "version": 3
   },
   "file_extension": ".py",
   "mimetype": "text/x-python",
   "name": "python",
   "nbconvert_exporter": "python",
   "pygments_lexer": "ipython3",
   "version": "3.6.7"
  }
 },
 "nbformat": 4,
 "nbformat_minor": 2
}
